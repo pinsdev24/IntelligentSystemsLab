{
  "nbformat": 4,
  "nbformat_minor": 0,
  "metadata": {
    "colab": {
      "provenance": []
    },
    "kernelspec": {
      "name": "python3",
      "display_name": "Python 3"
    },
    "language_info": {
      "name": "python"
    }
  },
  "cells": [
    {
      "cell_type": "code",
      "execution_count": 1,
      "metadata": {
        "colab": {
          "base_uri": "https://localhost:8080/"
        },
        "collapsed": true,
        "id": "MM5jBdMfQ-ZM",
        "outputId": "ec5f8f22-a1d9-4679-d568-8bf03cdb99cf"
      },
      "outputs": [
        {
          "output_type": "stream",
          "name": "stdout",
          "text": [
            "Requirement already satisfied: langchain in /usr/local/lib/python3.12/dist-packages (0.3.27)\n",
            "Requirement already satisfied: langchain_core in /usr/local/lib/python3.12/dist-packages (0.3.79)\n",
            "Requirement already satisfied: langchain-google-genai in /usr/local/lib/python3.12/dist-packages (2.1.12)\n",
            "Requirement already satisfied: langgraph in /usr/local/lib/python3.12/dist-packages (1.0.0)\n",
            "Requirement already satisfied: pydantic in /usr/local/lib/python3.12/dist-packages (2.11.10)\n",
            "Requirement already satisfied: langchain-text-splitters<1.0.0,>=0.3.9 in /usr/local/lib/python3.12/dist-packages (from langchain) (0.3.11)\n",
            "Requirement already satisfied: langsmith>=0.1.17 in /usr/local/lib/python3.12/dist-packages (from langchain) (0.4.35)\n",
            "Requirement already satisfied: SQLAlchemy<3,>=1.4 in /usr/local/lib/python3.12/dist-packages (from langchain) (2.0.44)\n",
            "Requirement already satisfied: requests<3,>=2 in /usr/local/lib/python3.12/dist-packages (from langchain) (2.32.4)\n",
            "Requirement already satisfied: PyYAML>=5.3 in /usr/local/lib/python3.12/dist-packages (from langchain) (6.0.3)\n",
            "Requirement already satisfied: tenacity!=8.4.0,<10.0.0,>=8.1.0 in /usr/local/lib/python3.12/dist-packages (from langchain_core) (8.5.0)\n",
            "Requirement already satisfied: jsonpatch<2.0.0,>=1.33.0 in /usr/local/lib/python3.12/dist-packages (from langchain_core) (1.33)\n",
            "Requirement already satisfied: typing-extensions<5.0.0,>=4.7.0 in /usr/local/lib/python3.12/dist-packages (from langchain_core) (4.15.0)\n",
            "Requirement already satisfied: packaging<26.0.0,>=23.2.0 in /usr/local/lib/python3.12/dist-packages (from langchain_core) (25.0)\n",
            "Requirement already satisfied: google-ai-generativelanguage<1,>=0.7 in /usr/local/lib/python3.12/dist-packages (from langchain-google-genai) (0.8.0)\n",
            "Requirement already satisfied: filetype<2,>=1.2 in /usr/local/lib/python3.12/dist-packages (from langchain-google-genai) (1.2.0)\n",
            "Requirement already satisfied: langgraph-checkpoint<3.0.0,>=2.1.0 in /usr/local/lib/python3.12/dist-packages (from langgraph) (2.1.2)\n",
            "Requirement already satisfied: langgraph-prebuilt<1.1.0,>=1.0.0 in /usr/local/lib/python3.12/dist-packages (from langgraph) (1.0.0)\n",
            "Requirement already satisfied: langgraph-sdk<0.3.0,>=0.2.2 in /usr/local/lib/python3.12/dist-packages (from langgraph) (0.2.9)\n",
            "Requirement already satisfied: xxhash>=3.5.0 in /usr/local/lib/python3.12/dist-packages (from langgraph) (3.6.0)\n",
            "Requirement already satisfied: annotated-types>=0.6.0 in /usr/local/lib/python3.12/dist-packages (from pydantic) (0.7.0)\n",
            "Requirement already satisfied: pydantic-core==2.33.2 in /usr/local/lib/python3.12/dist-packages (from pydantic) (2.33.2)\n",
            "Requirement already satisfied: typing-inspection>=0.4.0 in /usr/local/lib/python3.12/dist-packages (from pydantic) (0.4.2)\n",
            "Requirement already satisfied: google-api-core!=2.0.*,!=2.1.*,!=2.10.*,!=2.2.*,!=2.3.*,!=2.4.*,!=2.5.*,!=2.6.*,!=2.7.*,!=2.8.*,!=2.9.*,<3.0.0,>=1.34.1 in /usr/local/lib/python3.12/dist-packages (from google-api-core[grpc]!=2.0.*,!=2.1.*,!=2.10.*,!=2.2.*,!=2.3.*,!=2.4.*,!=2.5.*,!=2.6.*,!=2.7.*,!=2.8.*,!=2.9.*,<3.0.0,>=1.34.1->google-ai-generativelanguage<1,>=0.7->langchain-google-genai) (2.26.0)\n",
            "Requirement already satisfied: google-auth!=2.24.0,!=2.25.0,<3.0.0,>=2.14.1 in /usr/local/lib/python3.12/dist-packages (from google-ai-generativelanguage<1,>=0.7->langchain-google-genai) (2.38.0)\n",
            "Requirement already satisfied: grpcio<2.0.0,>=1.33.2 in /usr/local/lib/python3.12/dist-packages (from google-ai-generativelanguage<1,>=0.7->langchain-google-genai) (1.75.1)\n",
            "Requirement already satisfied: proto-plus<2.0.0,>=1.22.3 in /usr/local/lib/python3.12/dist-packages (from google-ai-generativelanguage<1,>=0.7->langchain-google-genai) (1.26.1)\n",
            "Requirement already satisfied: protobuf!=4.21.0,!=4.21.1,!=4.21.2,!=4.21.3,!=4.21.4,!=4.21.5,<7.0.0,>=3.20.2 in /usr/local/lib/python3.12/dist-packages (from google-ai-generativelanguage<1,>=0.7->langchain-google-genai) (5.29.5)\n",
            "Requirement already satisfied: jsonpointer>=1.9 in /usr/local/lib/python3.12/dist-packages (from jsonpatch<2.0.0,>=1.33.0->langchain_core) (3.0.0)\n",
            "Requirement already satisfied: ormsgpack>=1.10.0 in /usr/local/lib/python3.12/dist-packages (from langgraph-checkpoint<3.0.0,>=2.1.0->langgraph) (1.11.0)\n",
            "Requirement already satisfied: httpx>=0.25.2 in /usr/local/lib/python3.12/dist-packages (from langgraph-sdk<0.3.0,>=0.2.2->langgraph) (0.28.1)\n",
            "Requirement already satisfied: orjson>=3.10.1 in /usr/local/lib/python3.12/dist-packages (from langgraph-sdk<0.3.0,>=0.2.2->langgraph) (3.11.3)\n",
            "Requirement already satisfied: requests-toolbelt>=1.0.0 in /usr/local/lib/python3.12/dist-packages (from langsmith>=0.1.17->langchain) (1.0.0)\n",
            "Requirement already satisfied: zstandard>=0.23.0 in /usr/local/lib/python3.12/dist-packages (from langsmith>=0.1.17->langchain) (0.25.0)\n",
            "Requirement already satisfied: charset_normalizer<4,>=2 in /usr/local/lib/python3.12/dist-packages (from requests<3,>=2->langchain) (3.4.4)\n",
            "Requirement already satisfied: idna<4,>=2.5 in /usr/local/lib/python3.12/dist-packages (from requests<3,>=2->langchain) (3.11)\n",
            "Requirement already satisfied: urllib3<3,>=1.21.1 in /usr/local/lib/python3.12/dist-packages (from requests<3,>=2->langchain) (2.5.0)\n",
            "Requirement already satisfied: certifi>=2017.4.17 in /usr/local/lib/python3.12/dist-packages (from requests<3,>=2->langchain) (2025.10.5)\n",
            "Requirement already satisfied: greenlet>=1 in /usr/local/lib/python3.12/dist-packages (from SQLAlchemy<3,>=1.4->langchain) (3.2.4)\n",
            "Requirement already satisfied: googleapis-common-protos<2.0.0,>=1.56.2 in /usr/local/lib/python3.12/dist-packages (from google-api-core!=2.0.*,!=2.1.*,!=2.10.*,!=2.2.*,!=2.3.*,!=2.4.*,!=2.5.*,!=2.6.*,!=2.7.*,!=2.8.*,!=2.9.*,<3.0.0,>=1.34.1->google-api-core[grpc]!=2.0.*,!=2.1.*,!=2.10.*,!=2.2.*,!=2.3.*,!=2.4.*,!=2.5.*,!=2.6.*,!=2.7.*,!=2.8.*,!=2.9.*,<3.0.0,>=1.34.1->google-ai-generativelanguage<1,>=0.7->langchain-google-genai) (1.70.0)\n",
            "Requirement already satisfied: grpcio-status<2.0.0,>=1.33.2 in /usr/local/lib/python3.12/dist-packages (from google-api-core[grpc]!=2.0.*,!=2.1.*,!=2.10.*,!=2.2.*,!=2.3.*,!=2.4.*,!=2.5.*,!=2.6.*,!=2.7.*,!=2.8.*,!=2.9.*,<3.0.0,>=1.34.1->google-ai-generativelanguage<1,>=0.7->langchain-google-genai) (1.71.2)\n",
            "Requirement already satisfied: cachetools<6.0,>=2.0.0 in /usr/local/lib/python3.12/dist-packages (from google-auth!=2.24.0,!=2.25.0,<3.0.0,>=2.14.1->google-ai-generativelanguage<1,>=0.7->langchain-google-genai) (5.5.2)\n",
            "Requirement already satisfied: pyasn1-modules>=0.2.1 in /usr/local/lib/python3.12/dist-packages (from google-auth!=2.24.0,!=2.25.0,<3.0.0,>=2.14.1->google-ai-generativelanguage<1,>=0.7->langchain-google-genai) (0.4.2)\n",
            "Requirement already satisfied: rsa<5,>=3.1.4 in /usr/local/lib/python3.12/dist-packages (from google-auth!=2.24.0,!=2.25.0,<3.0.0,>=2.14.1->google-ai-generativelanguage<1,>=0.7->langchain-google-genai) (4.9.1)\n",
            "Requirement already satisfied: anyio in /usr/local/lib/python3.12/dist-packages (from httpx>=0.25.2->langgraph-sdk<0.3.0,>=0.2.2->langgraph) (4.11.0)\n",
            "Requirement already satisfied: httpcore==1.* in /usr/local/lib/python3.12/dist-packages (from httpx>=0.25.2->langgraph-sdk<0.3.0,>=0.2.2->langgraph) (1.0.9)\n",
            "Requirement already satisfied: h11>=0.16 in /usr/local/lib/python3.12/dist-packages (from httpcore==1.*->httpx>=0.25.2->langgraph-sdk<0.3.0,>=0.2.2->langgraph) (0.16.0)\n",
            "Requirement already satisfied: pyasn1<0.7.0,>=0.6.1 in /usr/local/lib/python3.12/dist-packages (from pyasn1-modules>=0.2.1->google-auth!=2.24.0,!=2.25.0,<3.0.0,>=2.14.1->google-ai-generativelanguage<1,>=0.7->langchain-google-genai) (0.6.1)\n",
            "Requirement already satisfied: sniffio>=1.1 in /usr/local/lib/python3.12/dist-packages (from anyio->httpx>=0.25.2->langgraph-sdk<0.3.0,>=0.2.2->langgraph) (1.3.1)\n"
          ]
        }
      ],
      "source": [
        "!pip install langchain langchain_core langchain-google-genai langgraph pydantic"
      ]
    },
    {
      "cell_type": "code",
      "source": [
        "from langchain_google_genai import ChatGoogleGenerativeAI"
      ],
      "metadata": {
        "id": "i4qJzBUfP7hI"
      },
      "execution_count": 2,
      "outputs": []
    },
    {
      "cell_type": "code",
      "source": [
        "import getpass\n",
        "import os\n",
        "\n",
        "if \"GOOGLE_API_KEY\" not in os.environ:\n",
        "    os.environ[\"GOOGLE_API_KEY\"] = getpass.getpass(\"Enter your Google AI API key: \")"
      ],
      "metadata": {
        "colab": {
          "base_uri": "https://localhost:8080/"
        },
        "id": "6ISXNd7AO8On",
        "outputId": "e5c8049e-e109-4032-8ba7-8b4bb1334173"
      },
      "execution_count": 3,
      "outputs": [
        {
          "name": "stdout",
          "output_type": "stream",
          "text": [
            "Enter your Google AI API key: ··········\n"
          ]
        }
      ]
    },
    {
      "cell_type": "code",
      "source": [
        "llm = ChatGoogleGenerativeAI(\n",
        "    model=\"gemini-2.5-flash-lite\",\n",
        "    temperature=0,\n",
        ")"
      ],
      "metadata": {
        "id": "bch96PUuPrle"
      },
      "execution_count": 4,
      "outputs": []
    },
    {
      "cell_type": "markdown",
      "source": [
        "# Building Blocks: The Augmented LLM"
      ],
      "metadata": {
        "id": "JinMYdZ1QrJ6"
      }
    },
    {
      "cell_type": "code",
      "source": [
        "# Schema for structured output\n",
        "from pydantic import BaseModel, Field\n",
        "\n",
        "class SearchQuery(BaseModel):\n",
        "    search_query: str = Field(None, description=\"Query that is optimized web search.\")\n",
        "    justification: str = Field(\n",
        "        None, description=\"Why this query is relevant to the user's request.\"\n",
        "    )\n"
      ],
      "metadata": {
        "id": "KX7fl7HPQbRr"
      },
      "execution_count": 5,
      "outputs": []
    },
    {
      "cell_type": "code",
      "source": [
        "# Augment the LLM with schema for structured output\n",
        "structured_llm = llm.with_structured_output(SearchQuery)\n",
        "\n",
        "# Invoke the augmented LLM\n",
        "output = structured_llm.invoke(\"How does Calcium CT score relate to high cholesterol?\")\n",
        "\n",
        "# Define a tool\n",
        "def multiply(a: int, b: int) -> int:\n",
        "    return a * b"
      ],
      "metadata": {
        "id": "U6RY-nShQoul"
      },
      "execution_count": 6,
      "outputs": []
    },
    {
      "cell_type": "code",
      "source": [
        "output"
      ],
      "metadata": {
        "colab": {
          "base_uri": "https://localhost:8080/"
        },
        "id": "1_id9UuSRo8E",
        "outputId": "b11f3712-1403-4a84-a1d3-b963aaca514c"
      },
      "execution_count": 7,
      "outputs": [
        {
          "output_type": "execute_result",
          "data": {
            "text/plain": [
              "SearchQuery(search_query='Calcium CT score and high cholesterol relationship', justification='The user is asking about the relationship between Calcium CT score and high cholesterol. This search query directly addresses that relationship.')"
            ]
          },
          "metadata": {},
          "execution_count": 7
        }
      ]
    },
    {
      "cell_type": "code",
      "source": [
        "# Augment the LLM with tools\n",
        "llm_with_tools = llm.bind_tools([multiply])\n",
        "\n",
        "# Invoke the LLM with input that triggers the tool call\n",
        "msg = llm_with_tools.invoke(\"What is 2 times 3?\")"
      ],
      "metadata": {
        "id": "Nas-9ErwQ_Cu"
      },
      "execution_count": 8,
      "outputs": []
    },
    {
      "cell_type": "code",
      "source": [
        "msg.tool_calls"
      ],
      "metadata": {
        "colab": {
          "base_uri": "https://localhost:8080/"
        },
        "id": "vGO83yBsRD8n",
        "outputId": "d72ee040-b65d-4436-af68-34a02d5b57d4"
      },
      "execution_count": 9,
      "outputs": [
        {
          "output_type": "execute_result",
          "data": {
            "text/plain": [
              "[{'name': 'multiply',\n",
              "  'args': {'a': 2, 'b': 3},\n",
              "  'id': 'c90485bd-d371-40c6-9a73-63ebe49c87b3',\n",
              "  'type': 'tool_call'}]"
            ]
          },
          "metadata": {},
          "execution_count": 9
        }
      ]
    },
    {
      "cell_type": "code",
      "source": [
        "msg"
      ],
      "metadata": {
        "colab": {
          "base_uri": "https://localhost:8080/"
        },
        "id": "rDr5pFsURHeZ",
        "outputId": "d55660ae-c9a4-48ee-f3f8-6ec048b8478f"
      },
      "execution_count": 10,
      "outputs": [
        {
          "output_type": "execute_result",
          "data": {
            "text/plain": [
              "AIMessage(content='', additional_kwargs={'function_call': {'name': 'multiply', 'arguments': '{\"a\": 2, \"b\": 3}'}}, response_metadata={'prompt_feedback': {'block_reason': 0, 'safety_ratings': []}, 'finish_reason': 'STOP', 'model_name': 'gemini-2.5-flash-lite', 'safety_ratings': []}, id='run--b156a047-2839-42af-ac9f-1c3d08a2e5f7-0', tool_calls=[{'name': 'multiply', 'args': {'a': 2, 'b': 3}, 'id': 'c90485bd-d371-40c6-9a73-63ebe49c87b3', 'type': 'tool_call'}], usage_metadata={'input_tokens': 50, 'output_tokens': 18, 'total_tokens': 68, 'input_token_details': {'cache_read': 0}})"
            ]
          },
          "metadata": {},
          "execution_count": 10
        }
      ]
    },
    {
      "cell_type": "markdown",
      "source": [
        "# Prompt chaining"
      ],
      "metadata": {
        "id": "D-KJf_dpSkq9"
      }
    },
    {
      "cell_type": "code",
      "source": [
        "from typing_extensions import TypedDict\n",
        "from langgraph.graph import (\n",
        "    StateGraph, END, START\n",
        ")\n",
        "from IPython.display import Image, Markdown"
      ],
      "metadata": {
        "id": "LDuWwMvDRQks"
      },
      "execution_count": 11,
      "outputs": []
    },
    {
      "cell_type": "code",
      "source": [
        "# Graph stage\n",
        "class State(TypedDict):\n",
        "  topic: str\n",
        "  joke: str\n",
        "  improved_joke: str\n",
        "  final_joke: str"
      ],
      "metadata": {
        "id": "8o9PwoMDTJmi"
      },
      "execution_count": 12,
      "outputs": []
    },
    {
      "cell_type": "code",
      "source": [
        "# Nodes\n",
        "def generate_joke(state: State):\n",
        "  \"\"\" First LLM call to generate initial joke\"\"\"\n",
        "\n",
        "  msg = llm.invoke(f\"Tell me a joke about {state['topic']}\")\n",
        "  return {'joke': msg.content}\n",
        "\n",
        "def check_punchline(state: State):\n",
        "  \"\"\" Gate function to check if the joke is a punchline  \"\"\"\n",
        "\n",
        "  # Simple check - Does the joke content ! or ?\n",
        "  if '!' in state['joke'] or '?' in state['joke']:\n",
        "    return \"Pass\"\n",
        "  else:\n",
        "    return \"Fail\"\n",
        "\n",
        "def improve_joke(state: State):\n",
        "  \"\"\" Second LLM call to improve the initial joke\"\"\"\n",
        "\n",
        "  msg = llm.invoke(f\"Make this joke funnier by adding wordplay: {state['joke']}\")\n",
        "  return {'improved_joke': msg.content}\n",
        "\n",
        "def polish_joke(state: State):\n",
        "  \"\"\" Third LLM call to polish the joke\"\"\"\n",
        "\n",
        "  msg = llm.invoke(f\"Add a surprising twist to this joke: {state['improved_joke']}\")\n",
        "  return {'final_joke': msg.content}"
      ],
      "metadata": {
        "id": "pgtxGFVaTg0l"
      },
      "execution_count": 13,
      "outputs": []
    },
    {
      "cell_type": "code",
      "source": [
        "# Build a workflow\n",
        "workflow = StateGraph(State)\n",
        "\n",
        "# add nodes\n",
        "workflow.add_node(\"generate_joke\", generate_joke)\n",
        "workflow.add_node(\"improve_joke\", improve_joke)\n",
        "workflow.add_node(\"polish_joke\", polish_joke)\n",
        "\n",
        "# Add edges to connect nodes\n",
        "workflow.add_edge(START, \"generate_joke\")\n",
        "workflow.add_conditional_edges(\"generate_joke\", check_punchline, {\"Fail\": \"improve_joke\", \"Pass\": END})\n",
        "workflow.add_edge(\"improve_joke\", \"polish_joke\")\n",
        "workflow.add_edge(\"polish_joke\", END)\n",
        "\n",
        "# compile\n",
        "chain = workflow.compile()\n",
        "\n",
        "# Display workflow\n",
        "display(Image(chain.get_graph().draw_mermaid_png()))"
      ],
      "metadata": {
        "colab": {
          "base_uri": "https://localhost:8080/",
          "height": 497
        },
        "id": "y8e1KDYJWZvF",
        "outputId": "f4e9227f-c28b-43db-a5c4-ed82a733b3b8"
      },
      "execution_count": 14,
      "outputs": [
        {
          "output_type": "display_data",
          "data": {
            "image/png": "[encoded data removed]",
            "text/plain": [
              "<IPython.core.display.Image object>"
            ]
          },
          "metadata": {}
        }
      ]
    },
    {
      "cell_type": "code",
      "source": [
        "# Invoke\n",
        "state = chain.invoke({\"topic\": \"Elon\"})\n",
        "print(\"Initial joke:\")\n",
        "print(state[\"joke\"])\n",
        "print(\"\\n--- --- ---\\n\")\n",
        "if \"improved_joke\" in state:\n",
        "    print(\"Improved joke:\")\n",
        "    print(state[\"improved_joke\"])\n",
        "    print(\"\\n--- --- ---\\n\")\n",
        "\n",
        "    print(\"Final joke:\")\n",
        "    print(state[\"final_joke\"])\n",
        "else:\n",
        "    print(\"Joke failed quality gate - no punchline detected!\")"
      ],
      "metadata": {
        "colab": {
          "base_uri": "https://localhost:8080/"
        },
        "id": "Ei69ZU6zWiFK",
        "outputId": "b03b2979-a524-48ff-e491-65a7f568484b"
      },
      "execution_count": 15,
      "outputs": [
        {
          "output_type": "stream",
          "name": "stdout",
          "text": [
            "Initial joke:\n",
            "Why did Elon Musk break up with his GPS?\n",
            "\n",
            "Because it kept telling him to \"turn left,\" and he insisted on going \"to Mars.\"\n",
            "\n",
            "--- --- ---\n",
            "\n",
            "Joke failed quality gate - no punchline detected!\n"
          ]
        }
      ]
    },
    {
      "cell_type": "markdown",
      "source": [
        "# Parallelization"
      ],
      "metadata": {
        "id": "5wPPh9qgaY_i"
      }
    },
    {
      "cell_type": "code",
      "source": [
        "# State\n",
        "class State(TypedDict):\n",
        "  topic: str\n",
        "  joke: str\n",
        "  story: str\n",
        "  poem: str\n",
        "  combined_output: str"
      ],
      "metadata": {
        "id": "344PiI5zYbkP"
      },
      "execution_count": 16,
      "outputs": []
    },
    {
      "cell_type": "code",
      "source": [
        "# Nodes\n",
        "def call_llm_1(state: State):\n",
        "  \"\"\"First LLM call to generate initial joke\"\"\"\n",
        "\n",
        "  msg = llm.invoke(f\"Write a joke about {state['topic']}\")\n",
        "  return {\"joke\": msg.content}\n",
        "\n",
        "\n",
        "def call_llm_2(state: State):\n",
        "  \"\"\"Second LLM call to generate story\"\"\"\n",
        "\n",
        "  msg = llm.invoke(f\"Write a story about {state['topic']}\")\n",
        "  return {\"story\": msg.content}\n",
        "\n",
        "\n",
        "def call_llm_3(state: State):\n",
        "  \"\"\"Third LLM call to generate poem\"\"\"\n",
        "\n",
        "  msg = llm.invoke(f\"Write a poem about {state['topic']}\")\n",
        "  return {\"poem\": msg.content}\n",
        "\n",
        "# Aggregator\n",
        "def aggregator(state: State):\n",
        "  \"\"\" Aggragate joke, story, and poem into a single output \"\"\"\n",
        "\n",
        "  combined = f\"Here is a joke, story, and poem about {state['topic']}!\\n\\n\"\n",
        "  combined += f\"Joke: {state['joke']}\\n\\n\"\n",
        "  combined += f\"Story: {state['story']}\\n\\n\"\n",
        "  combined += f\"Poem: {state['poem']}\\n\\n\"\n",
        "\n",
        "  return {\"combined_output\": combined}"
      ],
      "metadata": {
        "id": "-lShwz8bbua5"
      },
      "execution_count": 17,
      "outputs": []
    },
    {
      "cell_type": "code",
      "source": [
        "# Build parallel workflow\n",
        "parallel_builder = StateGraph(State)\n",
        "\n",
        "# Add nodes\n",
        "parallel_builder.add_node(\"call_llm_1\", call_llm_1)\n",
        "parallel_builder.add_node(\"call_llm_2\", call_llm_2)\n",
        "parallel_builder.add_node(\"call_llm_3\", call_llm_3)\n",
        "parallel_builder.add_node(\"aggregator\", aggregator)\n",
        "\n",
        "# Add edges to connect nodes\n",
        "parallel_builder.add_edge(START, \"call_llm_1\")\n",
        "parallel_builder.add_edge(START, \"call_llm_2\")\n",
        "parallel_builder.add_edge(START, \"call_llm_3\")\n",
        "\n",
        "parallel_builder.add_edge(\"call_llm_1\", \"aggregator\")\n",
        "parallel_builder.add_edge(\"call_llm_2\", \"aggregator\")\n",
        "parallel_builder.add_edge(\"call_llm_3\", \"aggregator\")\n",
        "parallel_builder.add_edge(\"aggregator\", END)\n",
        "\n",
        "# Compile\n",
        "parallel_workflow = parallel_builder.compile()\n",
        "\n",
        "#Display Workflow\n",
        "display(Image(parallel_workflow.get_graph().draw_mermaid_png()))\n"
      ],
      "metadata": {
        "colab": {
          "base_uri": "https://localhost:8080/",
          "height": 350
        },
        "id": "xgO0dCZTbyTy",
        "outputId": "2c6cc4de-6bcf-4f99-dec9-57acb82f42fb"
      },
      "execution_count": 18,
      "outputs": [
        {
          "output_type": "display_data",
          "data": {
            "image/png": "[encoded data removed]",
            "text/plain": [
              "<IPython.core.display.Image object>"
            ]
          },
          "metadata": {}
        }
      ]
    },
    {
      "cell_type": "code",
      "source": [
        "# Invoke\n",
        "state = parallel_workflow.invoke({\"topic\": \"Elon\"})\n",
        "print(state[\"combined_output\"])"
      ],
      "metadata": {
        "colab": {
          "base_uri": "https://localhost:8080/"
        },
        "id": "EXCgTJOseOxw",
        "outputId": "78b9dbca-c652-436a-d426-90dc9c860570",
        "collapsed": true
      },
      "execution_count": 19,
      "outputs": [
        {
          "output_type": "stream",
          "name": "stdout",
          "text": [
            "Here is a joke, story, and poem about Elon!\n",
            "\n",
            "Joke: Why did Elon Musk break up with his GPS?\n",
            "\n",
            "Because it kept telling him to \"turn left,\" and he insisted on going to Mars.\n",
            "\n",
            "Story: The hum of the Tesla was a familiar lullaby to Elon. Not the gentle, sleep-inducing kind, but the low, resonant thrum of contained power, a promise of what was to come. He leaned back in the driver's seat, the soft leather cool against his skin, and watched the California sunset bleed across the horizon. It was a cliché, he knew, but clichés often held a kernel of truth. And tonight, the truth felt particularly potent.\n",
            "\n",
            "He wasn't driving to a board meeting, or a rocket launch, or even a clandestine rendezvous with a leading AI researcher. Tonight, he was driving to a diner. A greasy spoon, the kind with chipped Formica tables and coffee that tasted like it had been brewed in a forgotten pot. It was a deliberate choice, a conscious shedding of the gilded cage of his usual existence.\n",
            "\n",
            "The idea had struck him, as most of his ideas did, with the suddenness of a lightning strike. He’d been staring at a holographic projection of a Mars colony blueprint, the intricate details of atmospheric processors and hydroponic farms blurring before his eyes. He felt a familiar pang, a yearning for something… simpler. Something tangible.\n",
            "\n",
            "So, he’d ditched the security detail, slipped out of his Palo Alto mansion, and found himself on a dusty highway, the kind that stretched endlessly towards the unknown. He’d even traded his usual sleek black Tesla for a slightly older, slightly more battered model, a subtle rebellion against the perfection he so often chased.\n",
            "\n",
            "The diner, when he finally found it, was exactly as he’d imagined. A neon sign, flickering erratically, announced \"Peggy's Pies & Pastries.\" The air inside was thick with the scent of frying bacon and something sweet, probably the eponymous pies. He slid into a booth by the window, the vinyl squeaking in protest.\n",
            "\n",
            "A waitress, her nametag reading \"Brenda,\" approached, a notepad and pen clutched in her hand. She had kind eyes and a weary smile. \"What can I get for ya, hon?\"\n",
            "\n",
            "Elon paused, the usual torrent of complex thoughts momentarily silenced. He looked at the laminated menu, the pictures of burgers and milkshakes seeming impossibly vibrant. \"Just… a coffee,\" he said, his voice a little rough. \"And… a slice of apple pie.\"\n",
            "\n",
            "Brenda nodded, her smile widening slightly. \"Coming right up.\"\n",
            "\n",
            "As he waited, Elon watched the other patrons. A couple arguing softly over a plate of pancakes. A lone trucker nursing a cup of coffee, his face etched with the miles. A group of teenagers, their laughter echoing through the diner, their worries seemingly confined to the latest TikTok trends. They were all living their lives, unburdened by the weight of colonizing other planets or revolutionizing transportation.\n",
            "\n",
            "When Brenda brought his coffee, it was steaming and dark. He took a sip, the bitter warmth spreading through him. It was good. Unpretentious. Real.\n",
            "\n",
            "The pie arrived, a generous slice with a dollop of whipped cream. He took a bite. The crust was flaky, the apples tart and sweet. It was, in its own way, a masterpiece. A testament to simple, honest craftsmanship.\n",
            "\n",
            "He found himself talking to Brenda, not about neural interfaces or reusable rockets, but about the weather, about the best route to the next town, about the surprisingly good quality of her coffee. She, in turn, spoke of her grandchildren, of the challenges of keeping the diner afloat, of the quiet satisfaction of a well-baked pie.\n",
            "\n",
            "For the first time in a long time, Elon felt a sense of grounding. He wasn't the visionary, the disruptor, the man who dared to dream of the impossible. He was just a man, enjoying a slice of pie and a conversation.\n",
            "\n",
            "As he paid the bill, he left a generous tip. Brenda, her eyes twinkling, said, \"You come back now, ya hear?\"\n",
            "\n",
            "Elon smiled, a genuine, unforced smile. \"I will, Brenda. I just might.\"\n",
            "\n",
            "He walked back to his Tesla, the night air cool and crisp. The hum of the engine was still there, but it felt different now. Less like a promise of the future, and more like a quiet companion for the journey. He knew he would go back to his work, to the relentless pursuit of the extraordinary. But tonight, he had found something else. A reminder that even in the grandest of ambitions, there was profound value in the simple, the tangible, the perfectly baked slice of apple pie. And that, he realized, was a pretty good thing to remember.\n",
            "\n",
            "Poem: From electric dreams to rockets' fiery gleam,\n",
            "A mind that sparks, a visionary's scheme.\n",
            "He builds the future, bold and unafraid,\n",
            "With silicon and steel, a world remade.\n",
            "\n",
            "From PayPal's dawn to Tesla's silent hum,\n",
            "He challenges the norms, where others succumb.\n",
            "Electric cars that whisper on the breeze,\n",
            "A cleaner path, for all the lands and seas.\n",
            "\n",
            "Then Mars, a whisper, then a roaring call,\n",
            "To leave our cradle, stand up strong and tall.\n",
            "With Falcon's flight, the stars begin to bend,\n",
            "A cosmic journey, with no earthly end.\n",
            "\n",
            "He tweets and rants, a tempest in the night,\n",
            "A maverick spirit, burning ever bright.\n",
            "He pushes boundaries, breaks the mold apart,\n",
            "With audacious plans, and a relentless heart.\n",
            "\n",
            "Some call him genius, some a madman's quest,\n",
            "But none can deny the fire in his breast.\n",
            "For Elon's vision, though it may seem far,\n",
            "Is shaping worlds, beneath a distant star.\n",
            "\n",
            "\n"
          ]
        }
      ]
    },
    {
      "cell_type": "markdown",
      "source": [
        "# Routing"
      ],
      "metadata": {
        "id": "UfgaftBumV6v"
      }
    },
    {
      "cell_type": "code",
      "source": [
        "from typing_extensions import Literal\n",
        "from langchain_core.messages import HumanMessage, SystemMessage\n",
        "\n",
        "# Schema for structured output to use as routing logic\n",
        "class Route(BaseModel):\n",
        "  step: Literal['joke', 'story', 'poem'] = Field(\n",
        "      None, description=\"The next step in the routing process\"\n",
        "  )\n",
        "\n",
        "# Augment the LLM with schema for structured output\n",
        "router = llm.with_structured_output(Route)"
      ],
      "metadata": {
        "id": "HLY0QOS9egDo"
      },
      "execution_count": 20,
      "outputs": []
    },
    {
      "cell_type": "code",
      "source": [
        "# State\n",
        "class State(TypedDict):\n",
        "  input: str\n",
        "  decision: str\n",
        "  output: str\n",
        "\n",
        "\n",
        "# Nodes\n",
        "def llm_call_1(state: State):\n",
        "  \"\"\"Write a story\"\"\"\n",
        "\n",
        "  result = llm.invoke(state[\"input\"])\n",
        "  return {\"output\": result.content}\n",
        "\n",
        "\n",
        "def llm_call_2(state: State):\n",
        "  \"\"\"Write a joke\"\"\"\n",
        "\n",
        "  result = llm.invoke(state[\"input\"])\n",
        "  return {\"output\": result.content}\n",
        "\n",
        "\n",
        "def llm_call_3(state: State):\n",
        "  \"\"\"Write a poem\"\"\"\n",
        "\n",
        "  result = llm.invoke(state[\"input\"])\n",
        "  return {\"output\": result.content}\n",
        "\n",
        "def llm_call_router(state: State):\n",
        "  \"\"\"Route the input to the appropriate node\"\"\"\n",
        "\n",
        "  # Run the augmented LLM with structured output to serve as routing logic\n",
        "  decision = router.invoke(\n",
        "      [\n",
        "          SystemMessage(\n",
        "            content=\"Route the input to story, joke, or poem based on the user's request.\"\n",
        "          ),\n",
        "          HumanMessage(content=state[\"input\"]),\n",
        "      ]\n",
        "  )\n",
        "\n",
        "  return {'decision': decision.step}\n",
        "\n",
        "# Conditional edge function to route to the appropriate node\n",
        "def route_decision(state: State):\n",
        "  if state[\"decision\"] == \"story\":\n",
        "    return \"llm_call_1\"\n",
        "  elif state[\"decision\"] == \"joke\":\n",
        "    return \"llm_call_2\"\n",
        "  elif state[\"decision\"] == \"poem\":\n",
        "    return \"llm_call_3\""
      ],
      "metadata": {
        "id": "P-mtw6s_n3T7"
      },
      "execution_count": 22,
      "outputs": []
    },
    {
      "cell_type": "code",
      "source": [
        "# Build workflow\n",
        "route_builder = StateGraph(State)\n",
        "\n",
        "# Add node\n",
        "route_builder.add_node(\"llm_call_router\", llm_call_router)\n",
        "route_builder.add_node(\"llm_call_1\", llm_call_1)\n",
        "route_builder.add_node(\"llm_call_2\", llm_call_2)\n",
        "route_builder.add_node(\"llm_call_3\", llm_call_3)\n",
        "\n",
        "# Add edges to connect nodes\n",
        "route_builder.add_edge(START, \"llm_call_router\")\n",
        "route_builder.add_conditional_edges(\n",
        "    \"llm_call_router\",\n",
        "    route_decision,\n",
        "    {\n",
        "        \"llm_call_1\": \"llm_call_1\",\n",
        "        \"llm_call_2\": \"llm_call_2\",\n",
        "        \"llm_call_3\": \"llm_call_3\"\n",
        "    }\n",
        ")\n",
        "route_builder.add_edge(\"llm_call_1\", END)\n",
        "route_builder.add_edge(\"llm_call_2\", END)\n",
        "route_builder.add_edge(\"llm_call_3\", END)\n",
        "\n",
        "# compile\n",
        "routing_workflow =route_builder.compile()\n",
        "\n",
        "# Display workflow graph\n",
        "display(Image(routing_workflow.get_graph().draw_mermaid_png()))"
      ],
      "metadata": {
        "colab": {
          "base_uri": "https://localhost:8080/",
          "height": 350
        },
        "id": "mVPQNCVco5vR",
        "outputId": "305f8d5b-0639-488c-b9c1-98f14a9bc14d"
      },
      "execution_count": 24,
      "outputs": [
        {
          "output_type": "display_data",
          "data": {
            "image/png": "[encoded data removed]",
            "text/plain": [
              "<IPython.core.display.Image object>"
            ]
          },
          "metadata": {}
        }
      ]
    },
    {
      "cell_type": "code",
      "source": [
        "# Invoke\n",
        "state = routing_workflow.invoke({\"input\": \"tell me a joko about Robots\"})\n",
        "print(f\"Desion: {state['decision']}\\n\")\n",
        "print(f\"Output: \\n\\n{state['output']}\")"
      ],
      "metadata": {
        "colab": {
          "base_uri": "https://localhost:8080/"
        },
        "id": "pR-8WuZBqATm",
        "outputId": "188bbe02-516d-40b9-cf8c-3d6e9a0e715d"
      },
      "execution_count": 32,
      "outputs": [
        {
          "output_type": "stream",
          "name": "stdout",
          "text": [
            "Desion: joke\n",
            "\n",
            "Output: \n",
            "\n",
            "Why did the robot go to art school?\n",
            "\n",
            "Because he wanted to learn how to **draw circuits**!\n"
          ]
        }
      ]
    },
    {
      "cell_type": "markdown",
      "source": [
        "# Orchestrator-Worker\n",
        "\n",
        "With orchestrator-worker, an orchestrator breaks down a task and delegates each sub-task to workers."
      ],
      "metadata": {
        "id": "aG4G6um6uMAS"
      }
    },
    {
      "cell_type": "code",
      "source": [
        "from typing import Annotated, List\n",
        "import operator\n",
        "\n",
        "\n",
        "# Schema for structured output to use in planning\n",
        "class Section(BaseModel):\n",
        "  name: str = Field(\n",
        "      description=\"Name for this section of the report.\",\n",
        "  )\n",
        "  description: str = Field(\n",
        "      description=\"Brief overview of the main topics and concepts to be covered in this section.\",\n",
        "  )\n",
        "\n",
        "\n",
        "class Sections(BaseModel):\n",
        "  sections: List[Section] = Field(\n",
        "      description=\"Sections of the report.\",\n",
        "  )\n",
        "\n",
        "\n",
        "# Augment the LLM with schema for structured output\n",
        "planner = llm.with_structured_output(Sections)"
      ],
      "metadata": {
        "id": "lPTe5sBfsV3p"
      },
      "execution_count": 33,
      "outputs": []
    },
    {
      "cell_type": "code",
      "source": [
        "from langgraph.types import Send\n",
        "\n",
        "class State(TypedDict):\n",
        "  topic: str # Report topic\n",
        "  sections: List[Section] # List of report section\n",
        "  completed_sections: Annotated[\n",
        "      list, operator.add\n",
        "  ] # All worker write to this key in parallel\n",
        "  final_report: str\n",
        "\n",
        "class WorkerState(TypedDict):\n",
        "  section: Section\n",
        "  completed_sections: Annotated[\n",
        "      list, operator.add\n",
        "  ] # Only this worker writes to this key\n",
        "\n",
        "# Nodes\n",
        "def orchestrator(state: State):\n",
        "  \"\"\"Orchestrator that generates a plan for the report\"\"\"\n",
        "\n",
        "  # Generate queries\n",
        "  report_sections = planner.invoke(\n",
        "      [\n",
        "          SystemMessage(content=\"Generate a plan for the report.\"),\n",
        "          HumanMessage(content=f\"Here is the topic: {state['topic']}.\"),\n",
        "      ]\n",
        "  )\n",
        "\n",
        "  return {\"sections\": report_sections.sections}\n",
        "\n",
        "def llm_call(state: WorkerState):\n",
        "  \"\"\" Worker write a report of the given section \"\"\"\n",
        "\n",
        "  report_section = llm.invoke(\n",
        "      [\n",
        "          SystemMessage(\"Write a report section following the provided name and description. Include no preamble for each section. Use markdown formatting.\"),\n",
        "          HumanMessage(content=f\"Name: {state['section'].name}\\nDescription: {state['section'].description}\"),\n",
        "      ]\n",
        "  )\n",
        "\n",
        "  return {\"completed_sections\": [report_section.content]}\n",
        "\n",
        "def synthesizer(state: State):\n",
        "  \"\"\"Synthesize full report from sections\"\"\"\n",
        "\n",
        "  # List of completed sections\n",
        "  completed_sections = state['completed_sections']\n",
        "\n",
        "  # Combine completed sections\n",
        "  final_report = \"\\n\\n---\\n\\n\".join(completed_sections)\n",
        "\n",
        "  return {\"final_report\": final_report}\n",
        "\n",
        "# Conditional edge function to create llm_call workers that each write a section of the report\n",
        "def assign_worker(state: State):\n",
        "  \"\"\"Assign a worker to each section in the plan\"\"\"\n",
        "\n",
        "  # Kick off section writing in parallel via Send() API\n",
        "  return [Send(\"llm_call\", {\"section\": s}) for s in state[\"sections\"]]"
      ],
      "metadata": {
        "id": "TtfrImZFv-uk"
      },
      "execution_count": 43,
      "outputs": []
    },
    {
      "cell_type": "code",
      "source": [
        "# Build workflow\n",
        "orchestrator_worker_builder = StateGraph(State)\n",
        "\n",
        "# Add nodes\n",
        "orchestrator_worker_builder.add_node(\"orchestrator\", orchestrator)\n",
        "orchestrator_worker_builder.add_node(\"llm_call\", llm_call)\n",
        "orchestrator_worker_builder.add_node(\"synthesizer\", synthesizer)\n",
        "\n",
        "# Edges connectors\n",
        "orchestrator_worker_builder.add_edge(START, \"orchestrator\")\n",
        "orchestrator_worker_builder.add_conditional_edges(\n",
        "    \"orchestrator\",\n",
        "    assign_worker,\n",
        "    [\"llm_call\"]\n",
        ")\n",
        "orchestrator_worker_builder.add_edge(\"llm_call\", \"synthesizer\")\n",
        "orchestrator_worker_builder.add_edge(\"synthesizer\", END)\n",
        "\n",
        "orchestrator_worker_workflow = orchestrator_worker_builder.compile()\n",
        "\n",
        "# display workflow graph\n",
        "display(Image(orchestrator_worker_workflow.get_graph().draw_mermaid_png()))"
      ],
      "metadata": {
        "colab": {
          "base_uri": "https://localhost:8080/",
          "height": 449
        },
        "id": "N-HKRMVx2SnY",
        "outputId": "209ae42d-3673-4c4a-c6dd-3d83b8433a61"
      },
      "execution_count": 44,
      "outputs": [
        {
          "output_type": "display_data",
          "data": {
            "image/png": "[encoded data removed]",
            "text/plain": [
              "<IPython.core.display.Image object>"
            ]
          },
          "metadata": {}
        }
      ]
    },
    {
      "cell_type": "code",
      "source": [
        "# invoke\n",
        "report = orchestrator_worker_workflow.invoke({\"topic\": \"Elon Musk\"})"
      ],
      "metadata": {
        "id": "2t3LDCZW4SV0"
      },
      "execution_count": 47,
      "outputs": []
    },
    {
      "cell_type": "code",
      "source": [
        "print(report['final_report'])"
      ],
      "metadata": {
        "colab": {
          "base_uri": "https://localhost:8080/"
        },
        "collapsed": true,
        "id": "aH6wNPsc4nz1",
        "outputId": "7d1432d5-cda8-435c-b593-b83dcd0e170e"
      },
      "execution_count": 48,
      "outputs": [
        {
          "output_type": "stream",
          "name": "stdout",
          "text": [
            "name='Introduction' description=\"Overview of Elon Musk's life, career, and major achievements.\"\n",
            "\n",
            "--- --- ---\n",
            "\n",
            "name='Early Life and Education' description=\"Details about Elon Musk's childhood, upbringing, and educational background.\"\n",
            "\n",
            "--- --- ---\n",
            "\n",
            "name='Career and Ventures' description='Exploration of his involvement in various companies such as Zip2, PayPal, SpaceX, Tesla, Neuralink, and The Boring Company.'\n",
            "\n",
            "--- --- ---\n",
            "\n",
            "name='Innovations and Impact' description='Analysis of his contributions to technology, space exploration, and the automotive industry, and their broader impact on society.'\n",
            "\n",
            "--- --- ---\n",
            "\n",
            "name='Criticisms and Controversies' description='Discussion of the criticisms and controversies surrounding Elon Musk, including his business practices, public statements, and management style.'\n",
            "\n",
            "--- --- ---\n",
            "\n",
            "name='Future Outlook' description=\"Speculation on Elon Musk's future endeavors and their potential impact on various industries and the world.\"\n",
            "\n",
            "--- --- ---\n",
            "\n",
            "name='Conclusion' description=\"Summary of Elon Musk's significance and legacy.\"\n",
            "\n",
            "--- --- ---\n",
            "\n",
            "Final Report \n",
            "\n",
            "\n",
            "Elon Musk is a prominent entrepreneur and business magnate, widely recognized for his ambitious ventures and transformative impact on multiple industries. Born in South Africa in 1971, Musk displayed an early aptitude for computers and entrepreneurship, selling his first video game at the age of 12. His academic journey led him to Canada and then to the United States, where he pursued degrees in physics and economics at the University of Pennsylvania.\n",
            "\n",
            "Musk's career is marked by a series of groundbreaking companies. He co-founded Zip2, an online city guide, which was acquired by Compaq in 1999. Following this success, he co-founded X.com, an online financial services and email payment company, which later merged with Confinity to become PayPal. PayPal's acquisition by eBay in 2002 provided Musk with significant capital to pursue his more audacious goals.\n",
            "\n",
            "His major achievements are largely defined by his leadership of SpaceX and Tesla, Inc. SpaceX, founded in 2002, aims to revolutionize space technology with the ultimate goal of enabling human colonization of Mars. Under Musk's direction, SpaceX has achieved numerous milestones, including the development of reusable rockets, the first private company to send astronauts to the International Space Station, and the ongoing development of Starship, a fully reusable super heavy-lift launch vehicle.\n",
            "\n",
            "Tesla, Inc., where Musk serves as CEO, has become a leading force in the electric vehicle (EV) industry and a pioneer in sustainable energy solutions. He joined Tesla in 2004 and has been instrumental in its growth, overseeing the development and production of popular EVs like the Model S, Model 3, Model X, and Model Y. Beyond vehicles, Tesla is also a major player in solar energy and battery storage solutions through its SolarCity acquisition and Powerwall products.\n",
            "\n",
            "Musk's influence extends to other ventures, including his involvement with Neuralink, a neurotechnology company developing implantable brain-computer interfaces, and The Boring Company, which aims to alleviate urban traffic congestion through underground tunnel networks. His visionary approach, coupled with a relentless drive to push technological boundaries, has positioned Elon Musk as one of the most influential and transformative figures of the 21st century.\n",
            "\n",
            "---\n",
            "\n",
            "## Early Life and Education\n",
            "\n",
            "Elon Musk was born on June 28, 1971, in Pretoria, South Africa. His parents are Errol Musk, a South African engineer, and Maye Musk, a Canadian model and dietitian. He has a younger brother, Kimbal, and a younger sister, Tosca. Musk's parents divorced when he was eight years old, and he spent much of his childhood with his father.\n",
            "\n",
            "From a young age, Musk displayed a keen interest in computers and technology. He taught himself to code at the age of 10 and by 12, he had sold his first video game, \"Blastar,\" for approximately $500. This early entrepreneurial spirit and fascination with problem-solving would become defining characteristics of his life.\n",
            "\n",
            "Musk attended Bryanston High School in Johannesburg and later Waterkloof House Preparatory School. He found school challenging socially, often being bullied, and found solace in books and his intellectual pursuits.\n",
            "\n",
            "At 17, Musk moved to Canada to attend Queen's University in Kingston, Ontario, seeking to avoid mandatory military service in South Africa. After two years, he transferred to the University of Pennsylvania in Philadelphia, USA. He earned a Bachelor of Science degree in Physics and a Bachelor of Arts degree in Economics from the Wharton School of the University of Pennsylvania in 1997.\n",
            "\n",
            "Following his undergraduate studies, Musk enrolled in a Ph.D. program in applied physics at Stanford University. However, he left after just two days to pursue his entrepreneurial ambitions, believing that the internet was poised for significant growth and that he could make a greater impact by starting his own companies.\n",
            "\n",
            "---\n",
            "\n",
            "### Career and Ventures\n",
            "\n",
            "Elon Musk's entrepreneurial journey is marked by a series of ambitious ventures across diverse industries, each aiming to disrupt established norms and push technological boundaries.\n",
            "\n",
            "#### Zip2 (1995-1999)\n",
            "\n",
            "Musk's first significant foray into the tech world was co-founding Zip2 with his brother, Kimbal Musk. This company provided online city guides and business directories for newspapers, a pioneering effort in the nascent internet space. Zip2 was acquired by Compaq in 1999 for approximately $307 million, providing Musk with his initial substantial capital.\n",
            "\n",
            "#### PayPal (1999-2002)\n",
            "\n",
            "Following the sale of Zip2, Musk co-founded X.com, an online financial services and email payment company. X.com merged with Confinity, which operated a money transfer service called PayPal. The combined entity eventually dropped the X.com name and focused solely on PayPal. In 2002, PayPal was acquired by eBay for $1.5 billion, making Musk a very wealthy individual and solidifying his reputation as a successful entrepreneur.\n",
            "\n",
            "#### SpaceX (2002-Present)\n",
            "\n",
            "Driven by a desire to reduce the cost of space transportation and enable the colonization of Mars, Musk founded Space Exploration Technologies Corp. (SpaceX) in 2002. SpaceX has achieved numerous milestones, including the development of reusable rockets (Falcon 9 and Falcon Heavy), the successful launch and return of astronauts to the International Space Station (Crew Dragon), and the ongoing development of Starship, a fully reusable super heavy-lift launch vehicle intended for interplanetary travel. SpaceX's innovations have significantly lowered the cost of space access and are reshaping the aerospace industry.\n",
            "\n",
            "#### Tesla, Inc. (2004-Present)\n",
            "\n",
            "Musk joined Tesla Motors (now Tesla, Inc.) as an early investor and chairman in 2004, later taking on the role of CEO. Under his leadership, Tesla transitioned from a niche electric sports car manufacturer to a global leader in electric vehicles (EVs), battery energy storage, and solar energy products. Tesla's success has been instrumental in accelerating the adoption of electric transportation and renewable energy solutions worldwide.\n",
            "\n",
            "#### Neuralink (2016-Present)\n",
            "\n",
            "Co-founded by Musk, Neuralink is a neurotechnology company focused on developing implantable brain-computer interfaces (BCIs). The company's long-term goal is to create devices that can help people with paralysis regain mobility and communication, and potentially enhance human cognitive abilities. Neuralink has demonstrated early successes in animal trials and is progressing towards human clinical applications.\n",
            "\n",
            "#### The Boring Company (2016-Present)\n",
            "\n",
            "The Boring Company was established by Musk to address urban traffic congestion through the development of underground tunnel networks. The company aims to create efficient and cost-effective tunneling solutions for transportation, including high-speed transit systems like the \"Loop\" and \"Hyperloop\" concepts. The Boring Company has completed several tunneling projects and is exploring further applications for its technology.\n",
            "\n",
            "---\n",
            "\n",
            "### Innovations and Impact\n",
            "\n",
            "Elon Musk's career is marked by a series of ambitious ventures that have significantly impacted technology, space exploration, and the automotive industry, with ripple effects felt across society.\n",
            "\n",
            "#### Technology and the Internet\n",
            "\n",
            "Musk's early entrepreneurial endeavors laid the groundwork for his later successes. Co-founding **Zip2** in 1995, he developed online city guides that were eventually acquired by Compaq. This experience provided him with crucial insights into the nascent internet economy. His subsequent venture, **X.com**, merged with Confinity to form **PayPal**, revolutionizing online payments and demonstrating the potential for secure and convenient digital transactions. The widespread adoption of PayPal fundamentally altered e-commerce and financial services, making online purchases more accessible and trustworthy for millions.\n",
            "\n",
            "#### Space Exploration\n",
            "\n",
            "With **SpaceX**, founded in 2002, Musk aimed to drastically reduce the cost of space transportation and enable the colonization of Mars. SpaceX's innovations have been transformative:\n",
            "\n",
            "*   **Reusable Rocket Technology:** The development of reusable rocket boosters (Falcon 9 and Falcon Heavy) has dramatically lowered the cost of launching payloads into orbit. This has made space more accessible for scientific missions, commercial satellites, and even private individuals.\n",
            "*   **Starlink Satellite Constellation:** This ambitious project aims to provide global broadband internet access, particularly to underserved and remote areas. Starlink has the potential to bridge the digital divide, foster economic development, and improve communication infrastructure worldwide.\n",
            "*   **Mars Colonization Vision:** While still a long-term goal, Musk's persistent focus on Mars has reignited public interest in space exploration and spurred significant investment and research into interplanetary travel and life support systems.\n",
            "\n",
            "The impact of SpaceX extends beyond technological advancement. It has challenged the established aerospace industry, fostering competition and driving innovation. It has also inspired a new generation of engineers and scientists, rekindling a sense of wonder and possibility associated with space.\n",
            "\n",
            "#### Automotive Industry\n",
            "\n",
            "**Tesla, Inc.**, which Musk joined as chairman in 2004 and later became CEO, has been instrumental in accelerating the transition to electric vehicles (EVs). Tesla's contributions include:\n",
            "\n",
            "*   **High-Performance Electric Vehicles:** Tesla proved that electric cars could be desirable, high-performance alternatives to gasoline-powered vehicles, dispelling myths about their limitations. Models like the Model S, Model 3, Model X, and Model Y have set benchmarks for range, acceleration, and technology.\n",
            "*   **Battery Technology and Manufacturing:** Tesla's investment in battery research, development, and large-scale manufacturing (Gigafactories) has been crucial in driving down battery costs and improving energy density, making EVs more affordable and practical.\n",
            "*   **Autonomous Driving Technology:** Tesla's development of advanced driver-assistance systems (Autopilot) and its pursuit of full self-driving capabilities have pushed the boundaries of automotive AI and automation, raising both excitement and ethical considerations about the future of transportation.\n",
            "*   **Charging Infrastructure:** The development of the Supercharger network has addressed a key barrier to EV adoption by providing a widespread and reliable charging solution.\n",
            "\n",
            "Tesla's success has forced traditional automakers to accelerate their own EV development programs, leading to a significant shift in the global automotive landscape. This transition has profound implications for reducing carbon emissions, improving air quality in urban areas, and decreasing reliance on fossil fuels.\n",
            "\n",
            "#### Broader Societal Impact\n",
            "\n",
            "Musk's ventures have had a multifaceted impact on society:\n",
            "\n",
            "*   **Inspiration and Ambition:** His audacious goals and relentless pursuit of seemingly impossible challenges have inspired millions, encouraging a culture of innovation and problem-solving.\n",
            "*   **Economic Disruption and Job Creation:** His companies have created thousands of high-skilled jobs and disrupted established industries, leading to both economic growth and significant shifts in employment landscapes.\n",
            "*   **Technological Advancement:** The innovations pioneered by Musk's companies have accelerated progress in fields ranging from AI and robotics to renewable energy and materials science.\n",
            "*   **Public Discourse and Policy:** His public pronouncements and the very nature of his ambitious projects have often sparked widespread public debate on topics such as climate change, the future of work, space policy, and the ethical implications of advanced technologies.\n",
            "*   **Risk-Taking and Entrepreneurship:** Musk's willingness to invest heavily in unproven technologies and to take significant personal and financial risks has served as a powerful example for aspiring entrepreneurs.\n",
            "\n",
            "However, his impact is not without controversy. His management style, public statements, and the ambitious timelines for his projects have also drawn criticism and scrutiny. Nevertheless, the transformative nature of his contributions to technology, space exploration, and the automotive industry, and their subsequent societal ramifications, are undeniable.\n",
            "\n",
            "---\n",
            "\n",
            "## Criticisms and Controversies\n",
            "\n",
            "Elon Musk's career and public persona have been marked by a consistent stream of criticisms and controversies, spanning his business dealings, public pronouncements, and leadership approach. These issues have often generated significant media attention and public debate, impacting his companies' reputations and stock valuations.\n",
            "\n",
            "### Business Practices and Financial Scrutiny\n",
            "\n",
            "Musk's ambitious timelines and aggressive production targets have frequently led to accusations of overpromising and underdelivering. Tesla, in particular, has faced scrutiny regarding its production ramp-ups, quality control issues, and the feasibility of its self-driving technology claims. The company has also been subject to investigations by regulatory bodies like the Securities and Exchange Commission (SEC) over Musk's public statements, particularly those made on social media, which have been alleged to manipulate stock prices. For instance, his 2018 tweet about taking Tesla private at $420 per share led to an SEC settlement requiring him to step down as Tesla's chairman and pay a $20 million fine.\n",
            "\n",
            "Furthermore, the financial sustainability of some of Musk's ventures, especially in their early stages, has been questioned. Critics point to the substantial government subsidies and tax incentives that have supported companies like Tesla and SpaceX, arguing that their success is not solely attributable to innovation and market forces. The high burn rate of capital in his various enterprises has also raised concerns about their long-term viability without continuous funding rounds or profitability.\n",
            "\n",
            "### Public Statements and Social Media Behavior\n",
            "\n",
            "Musk's prolific use of Twitter (now X) has been a constant source of controversy. His often impulsive and provocative tweets have ranged from jokes and memes to serious pronouncements on business, politics, and social issues. Critics argue that his public statements can be erratic, inflammatory, and damaging to the brands he leads. His engagement with conspiracy theories, his public feuds with critics and journalists, and his sometimes dismissive attitude towards concerns about misinformation have drawn widespread condemnation.\n",
            "\n",
            "His pronouncements on topics like artificial intelligence, climate change, and cryptocurrency have also been met with skepticism and criticism from experts in those fields. The unpredictable nature of his social media activity has led to a perception of instability and a lack of professional decorum, which some believe undermines investor confidence and public trust.\n",
            "\n",
            "### Management Style and Workplace Culture\n",
            "\n",
            "Musk's management style is often described as demanding, hands-on, and at times, abrasive. He is known for his intense work ethic and expects the same from his employees, leading to reports of long hours and high-pressure environments. While some employees thrive under his leadership, others have spoken out about a culture that can be unforgiving of mistakes and prone to rapid shifts in direction.\n",
            "\n",
            "Allegations of a hostile work environment, including instances of alleged discrimination and harassment, have surfaced at some of his companies. Critics point to his public dismissals of employees and his confrontational approach to dissent as evidence of a management style that prioritizes loyalty and obedience over open communication and employee well-being. The high turnover rates reported at some of his companies are often attributed, in part, to these management practices.\n",
            "\n",
            "### Acquisition of Twitter (X)\n",
            "\n",
            "Musk's acquisition of Twitter in October 2022 for $44 billion was itself a highly controversial event. The process was fraught with legal battles and public uncertainty, with Musk initially attempting to back out of the deal. Upon taking control, he initiated sweeping changes, including mass layoffs, the reinstatement of previously banned accounts, and significant alterations to content moderation policies. These decisions have been met with both praise from those who believe he is fostering free speech and strong criticism from those concerned about the platform's role in spreading misinformation and hate speech. The subsequent rebranding of Twitter to X and the introduction of paid verification have further fueled debate about the platform's future direction and its impact on public discourse.\n",
            "\n",
            "---\n",
            "\n",
            "## Future Outlook\n",
            "\n",
            "Elon Musk's trajectory suggests a continued focus on ambitious, long-term projects with the potential for transformative global impact. His ventures, spanning space exploration, sustainable energy, and artificial intelligence, are poised to shape multiple industries and redefine societal possibilities.\n",
            "\n",
            "**Space Exploration (SpaceX):** The Mars colonization initiative remains a central, albeit distant, goal. Success in establishing a self-sustaining human presence on Mars would represent a monumental leap for humanity, potentially ensuring long-term species survival and opening new frontiers for scientific discovery and resource utilization. Continued advancements in reusable rocket technology are expected to drastically reduce the cost of space access, democratizing space exploration and enabling a wider range of commercial and scientific activities, including satellite deployment, space tourism, and potentially asteroid mining. The Starlink satellite internet constellation, already a significant undertaking, will likely continue its expansion, aiming to provide global broadband access and further integrate remote regions into the digital economy.\n",
            "\n",
            "**Sustainable Energy (Tesla):** Tesla's mission to accelerate the world's transition to sustainable energy is far from complete. Beyond electric vehicles, the company is expected to deepen its involvement in energy storage solutions, from residential Powerwalls to utility-scale Megapacks, playing a crucial role in grid stability and the integration of renewable energy sources. Further innovation in battery technology, including potential breakthroughs in energy density and charging speed, could accelerate EV adoption and reduce reliance on fossil fuels. Expansion into new markets and the development of more affordable EV models could broaden accessibility and further disrupt the automotive industry.\n",
            "\n",
            "**Artificial Intelligence (xAI):** The establishment of xAI signals Musk's direct engagement with the rapidly evolving field of artificial intelligence. His stated goal of understanding the \"true nature of the universe\" through AI suggests a focus on fundamental research and potentially the development of advanced AI systems that could tackle complex scientific and societal challenges. Given Musk's concerns about the potential risks of advanced AI, xAI may also prioritize safety and ethical considerations, aiming to develop AI that is beneficial and aligned with human values. The intersection of AI with his other ventures, such as optimizing rocket design, improving battery management, or enhancing autonomous driving, is also a strong possibility.\n",
            "\n",
            "**Neurotechnology (Neuralink):** While still in its nascent stages, Neuralink's ambition to create brain-computer interfaces (BCIs) holds profound implications for medicine and human augmentation. Potential applications include restoring motor function for individuals with paralysis, treating neurological disorders, and eventually, enhancing human cognitive capabilities. The ethical considerations surrounding BCIs are significant and will require careful navigation as the technology matures.\n",
            "\n",
            "**Overall Impact:** Musk's ventures often operate at the bleeding edge of technological possibility, pushing boundaries and inspiring innovation across industries. His willingness to tackle seemingly insurmountable challenges, coupled with his ability to attract significant talent and capital, suggests that his future endeavors will continue to be closely watched. The potential impacts range from the existential (species survival on Mars) to the practical (ubiquitous sustainable energy and internet access) and the deeply personal (restoring lost functions through BCIs). However, the scale of these ambitions also carries inherent risks and uncertainties, and the ultimate success and societal implications of his future projects remain to be seen.\n",
            "\n",
            "---\n",
            "\n",
            "## Conclusion\n",
            "\n",
            "Elon Musk's impact on the 21st century is undeniable and multifaceted. He has not merely founded and led companies; he has fundamentally reshaped industries and challenged conventional thinking about what is technologically and economically feasible. His ventures, from revolutionizing electric vehicle production with Tesla to pioneering private space exploration with SpaceX, have pushed the boundaries of innovation and inspired a new generation of entrepreneurs and engineers.\n",
            "\n",
            "Musk's significance lies in his audacious vision and relentless pursuit of ambitious goals, often in the face of significant skepticism and considerable risk. He has demonstrated a remarkable ability to identify critical global challenges – climate change, sustainable energy, interplanetary colonization – and then marshal resources and talent to address them head-on. His success has not only brought groundbreaking technologies to market but has also spurred competition and accelerated progress across entire sectors.\n",
            "\n",
            "The legacy of Elon Musk is still being written, but it is already clear that he will be remembered as a transformative figure. He has proven that bold ideas, coupled with unwavering determination and a willingness to disrupt established norms, can lead to extraordinary achievements. Whether it is making sustainable transportation a mainstream reality or opening up the possibility of humanity becoming a multi-planetary species, Musk's influence is profound and will likely continue to shape the future for decades to come. His career serves as a powerful testament to the potential of human ingenuity and the impact one individual can have on the trajectory of global progress.\n"
          ]
        }
      ]
    },
    {
      "cell_type": "markdown",
      "source": [
        "# Evaluator-optimizer\n",
        "\n",
        "In the evaluator-optimizer workflow, one LLM call generates a response while another provides evaluation and feedback in a loop"
      ],
      "metadata": {
        "id": "7bqvPxAN9DU5"
      }
    },
    {
      "cell_type": "code",
      "source": [
        "# Graph state\n",
        "class State(TypedDict):\n",
        "  topic: str\n",
        "  joke: str\n",
        "  feedback: str\n",
        "  funny_or_not: str\n",
        "\n",
        "class Feedback(BaseModel):\n",
        "  grade: Literal[\"funny\", \"not funny\"] = Field(\n",
        "      description=\"Decide if the joke is funny or not. It must not a cliché joke. check his originality\")\n",
        "  feedback: str = Field(\n",
        "      description=\"If the joke is not funny, provide a feedback on how to improve it.\")\n",
        "\n",
        "evaluator_llm = llm.with_structured_output(Feedback)"
      ],
      "metadata": {
        "id": "dYjohKvP6AFa"
      },
      "execution_count": 62,
      "outputs": []
    },
    {
      "cell_type": "code",
      "source": [
        "def llm_call_generator(state: State):\n",
        "  \"\"\" Generate a joke base on topic and/or feedback\"\"\"\n",
        "\n",
        "  if state.get(\"feedback\"):\n",
        "    msg = llm.invoke(f\"Write a joke about {state['topic']} by considering this feedback : {state['feedback']}\")\n",
        "  else:\n",
        "    msg = llm.invoke(f\"Tell me a joke about {state['topic']}\")\n",
        "  return {\"joke\": msg.content}\n",
        "\n",
        "def llm_call_evaluator(state: State):\n",
        "  \"\"\"Evaluate the joke\"\"\"\n",
        "\n",
        "  grade = evaluator_llm.invoke(f\"grade this joke: {state['joke']}\")\n",
        "\n",
        "  return {\"funny_or_not\": grade.grade, \"feedback\": grade.feedback}\n",
        "\n",
        "def route_joke(state: State):\n",
        "  \"\"\" Get the feedback \"\"\"\n",
        "\n",
        "  if state[\"funny_or_not\"] == \"funny\":\n",
        "    return \"Pass\"\n",
        "  elif state[\"funny_or_not\"] == \"not funny\":\n",
        "    return \"Fail + Feedback\""
      ],
      "metadata": {
        "id": "D09sUC7Z-wbj"
      },
      "execution_count": 63,
      "outputs": []
    },
    {
      "cell_type": "code",
      "source": [
        "# Build workflow\n",
        "evaluator_optimizer_builder = StateGraph(State)\n",
        "\n",
        "# add nodes\n",
        "evaluator_optimizer_builder.add_node(\"llm_call_generator\", llm_call_generator)\n",
        "evaluator_optimizer_builder.add_node(\"llm_call_evaluator\", llm_call_evaluator)\n",
        "\n",
        "# add edges\n",
        "evaluator_optimizer_builder.add_edge(START, \"llm_call_generator\")\n",
        "evaluator_optimizer_builder.add_edge(\"llm_call_generator\", \"llm_call_evaluator\")\n",
        "evaluator_optimizer_builder.add_conditional_edges(\n",
        "    \"llm_call_evaluator\",\n",
        "    route_joke,\n",
        "    {\"Pass\": END, \"Fail + Feedback\": \"llm_call_generator\"}\n",
        ")\n",
        "\n",
        "# compile\n",
        "evaluator_optimizer_workflow = evaluator_optimizer_builder.compile()\n",
        "\n",
        "# Display workflow graph\n",
        "display(Image(evaluator_optimizer_workflow.get_graph().draw_mermaid_png()))"
      ],
      "metadata": {
        "colab": {
          "base_uri": "https://localhost:8080/",
          "height": 398
        },
        "id": "htZIXMUuCZoZ",
        "outputId": "8621e1dc-e532-460f-ce9a-073a54b34a75"
      },
      "execution_count": 64,
      "outputs": [
        {
          "output_type": "display_data",
          "data": {
            "image/png": "[encoded data removed]",
            "text/plain": [
              "<IPython.core.display.Image object>"
            ]
          },
          "metadata": {}
        }
      ]
    },
    {
      "cell_type": "code",
      "source": [
        "# Invoke\n",
        "state = evaluator_optimizer_workflow.invoke({'topic': 'Virus'})\n",
        "\n",
        "print(f\"{state['funny_or_not']}\\n\\n\")\n",
        "print(f\"{state['feedback']}\\n\\n\")\n",
        "print(state['joke'])"
      ],
      "metadata": {
        "colab": {
          "base_uri": "https://localhost:8080/"
        },
        "id": "7LjzySJ3DA14",
        "outputId": "49a45014-59b3-4d95-fb07-a548868e1a3f"
      },
      "execution_count": 67,
      "outputs": [
        {
          "output_type": "stream",
          "name": "stdout",
          "text": [
            "funny\n",
            "\n",
            "\n",
            "The joke is original and humorous. The wordplay on \n",
            "\n",
            "\n",
            "Why did the virus break up with the computer?\n",
            "\n",
            "Because it felt like they were just going through the motions, and it was tired of being *copied*!\n"
          ]
        }
      ]
    },
    {
      "cell_type": "code",
      "source": [],
      "metadata": {
        "id": "EP83lFfwE-aj"
      },
      "execution_count": null,
      "outputs": []
    }
  ]
}